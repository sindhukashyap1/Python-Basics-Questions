{
  "nbformat": 4,
  "nbformat_minor": 0,
  "metadata": {
    "colab": {
      "provenance": []
    },
    "kernelspec": {
      "name": "python3",
      "display_name": "Python 3"
    },
    "language_info": {
      "name": "python"
    }
  },
  "cells": [
    {
      "cell_type": "markdown",
      "source": [
        "1. What is Python, and why is it popular?\n",
        "Python is a high-level, general-purpose programming language known for its simplicity\n",
        "and readability. It’s popular because the syntax is easy to learn, it supports multiple\n",
        "programming styles (like object-oriented and functional), and it has a huge collection of\n",
        "libraries that make tasks like data analysis, machine learning, and web development\n",
        "much faster.\n",
        "\n",
        "2. What is an interpreter in Python?\n",
        "An interpreter is the program that executes Python code line by line. Instead of\n",
        "compiling the whole program into machine code first, the interpreter directly reads and\n",
        "runs each line. This makes debugging easier and allows for quick testing.\n",
        "\n",
        "3. What are pre-defined keywords in Python?\n",
        "Keywords are reserved words in Python that have special meaning to the language. They\n",
        "define the structure and rules of Python programs. For example: if, else, while, for, class,\n",
        "def, and so on. You can’t use these words for naming variables or functions.\n",
        "\n",
        "4. Can keywords be used as variable names?\n",
        "No, keywords cannot be used as variable names. Since they already have a specific\n",
        "purpose in the language, using them as variable names would confuse the interpreter\n",
        "and lead to errors.\n",
        "\n",
        "5. What is mutability in Python?\n",
        "Mutability refers to whether or not an object’s value can be changed after it is created.\n",
        "Mutable objects can be modified in place, while immutable objects cannot be changed\n",
        "once defined.\n",
        "\n",
        "6. Why are lists mutable, but tuples are immutable?\n",
        "Lists are designed to be flexible, so their elements can be added, removed, or changed.\n",
        "Tuples, on the other hand, are meant to store fixed collections of items. Making tuples\n",
        "immutable ensures they remain consistent and can be used as keys in dictionaries or\n",
        "stored in sets.\n",
        "\n",
        "7. What is the diDerence between “==” and “is” operators in Python?\n",
        "• == checks if the values of two objects are the same.\n",
        "\n",
        "• is checks if two variables point to the exact same object in memory.\n",
        "Example: Two lists with the same elements are equal with ==, but they are not the same\n",
        "object, so is would return False.\n",
        "\n",
        "8. What are logical operators in Python?\n",
        "Logical operators are used to combine conditional statements. The three logical\n",
        "operators in Python are:\n",
        "• and – returns True if both conditions are True\n",
        "• or – returns True if at least one condition is True\n",
        "• not – reverses the result (True becomes False, and vice versa)\n",
        "\n",
        "9. What is type casting in Python?\n",
        "Type casting is converting a value from one data type to another. For example, turning\n",
        "an integer into a string or a float into an integer. This is often done using built-in\n",
        "functions like int(), float(), and str().\n",
        "\n",
        "10. What is the diDerence between implicit and explicit type casting?\n",
        "• Implicit type casting (type conversion) happens automatically when Python\n",
        "converts a smaller data type into a larger one. Example: adding an integer to a\n",
        "float automatically makes the result a float.\n",
        "• Explicit type casting is when the programmer manually converts a value into\n",
        "another type using functions like int(), float(), or str().\n",
        "\n",
        "11. What is the purpose of conditional statements in Python?\n",
        "Conditional statements let a program make decisions based on certain conditions.\n",
        "They control the flow of the program so diSerent blocks of code run depending on\n",
        "whether conditions are true or false.\n",
        "\n",
        "12. How does the elif statement work?\n",
        "The elif statement checks another condition if the initial if condition is false. It acts like\n",
        "“else if” and allows multiple conditions to be tested in sequence until one evaluates to\n",
        "True.\n",
        "\n",
        "13. What is the diDerence between for and while loops?\n",
        "• A for loop is generally used when you know how many times you want to run the\n",
        "loop. It iterates over sequences like lists, strings, or ranges.\n",
        "• A while loop runs as long as a condition is True, and is useful when you don’t\n",
        "know in advance how many iterations will be needed.\n",
        "\n",
        "14. Describe a scenario where a while loop is more suitable than a for loop.\n",
        "A while loop is more suitable when you’re waiting for something to happen but don’t\n",
        "know how many steps it will take. For example, reading user input until they type a valid\n",
        "password. You can’t fix the number of attempts in advance, so a while loop is better\n",
        "than a for loop."
      ],
      "metadata": {
        "id": "CnUX7ThPImOK"
      }
    },
    {
      "cell_type": "code",
      "execution_count": null,
      "metadata": {
        "id": "qA8Z_VR4Z46C",
        "colab": {
          "base_uri": "https://localhost:8080/"
        },
        "outputId": "8fd0fcb0-2c5a-474b-fd69-32840cf679d9"
      },
      "outputs": [
        {
          "output_type": "stream",
          "name": "stdout",
          "text": [
            "Hello, World!\n"
          ]
        }
      ],
      "source": [
        "# Q1. Write a Python program to print \"Hello, World!\"\n",
        "print(\"Hello, World!\")"
      ]
    },
    {
      "cell_type": "code",
      "source": [
        "# Q2. Write a Python program that displays your name and age\n",
        "name = \"Sindhu\"\n",
        "age = 23\n",
        "print(\"My name is\", name, \"and I am\", age, \"years old.\")"
      ],
      "metadata": {
        "colab": {
          "base_uri": "https://localhost:8080/"
        },
        "id": "-RueOmcReNBe",
        "outputId": "3241af14-1ebd-455e-c32e-110f12680d2a"
      },
      "execution_count": null,
      "outputs": [
        {
          "output_type": "stream",
          "name": "stdout",
          "text": [
            "My name is Sindhu and I am 23 years old.\n"
          ]
        }
      ]
    },
    {
      "cell_type": "code",
      "source": [
        "# Q3. Write code to print all the pre-defined keywords in Python using the keyword library\n",
        "import keyword\n",
        "print(keyword.kwlist)"
      ],
      "metadata": {
        "colab": {
          "base_uri": "https://localhost:8080/"
        },
        "id": "jptZt4zqeNQO",
        "outputId": "d4c2e982-da01-4ae3-91df-4f8aff233428"
      },
      "execution_count": null,
      "outputs": [
        {
          "output_type": "stream",
          "name": "stdout",
          "text": [
            "['False', 'None', 'True', 'and', 'as', 'assert', 'async', 'await', 'break', 'class', 'continue', 'def', 'del', 'elif', 'else', 'except', 'finally', 'for', 'from', 'global', 'if', 'import', 'in', 'is', 'lambda', 'nonlocal', 'not', 'or', 'pass', 'raise', 'return', 'try', 'while', 'with', 'yield']\n"
          ]
        }
      ]
    },
    {
      "cell_type": "code",
      "source": [
        "# Q4. Write a program that checks if a given word is a Python keyword\n",
        "import keyword\n",
        "word = input(\"Enter a word: \")\n",
        "if keyword.iskeyword(word):\n",
        "    print(word, \"is a Python keyword.\")\n",
        "else:\n",
        "    print(word, \"is not a Python keyword.\")"
      ],
      "metadata": {
        "colab": {
          "base_uri": "https://localhost:8080/"
        },
        "id": "NEQmBwp2eNab",
        "outputId": "f70127ce-bdb5-4e16-dc4f-e053041ec197"
      },
      "execution_count": null,
      "outputs": [
        {
          "output_type": "stream",
          "name": "stdout",
          "text": [
            "Enter a word: apple\n",
            "apple is not a Python keyword.\n"
          ]
        }
      ]
    },
    {
      "cell_type": "code",
      "source": [
        "# Q5. Write a function to demonstrate the behavior of mutable and immutable arguments\n",
        "def modify_list(lst):\n",
        "    lst.append(10)\n",
        "\n",
        "def modify_number(num):\n",
        "    num += 10\n",
        "    return num\n",
        "\n",
        "my_list = [1, 2, 3]\n",
        "modify_list(my_list)\n",
        "print(\"List after modification:\", my_list)\n",
        "\n",
        "my_num = 5\n",
        "new_num = modify_number(my_num)\n",
        "print(\"Original number:\", my_num)\n",
        "print(\"New number:\", new_num)"
      ],
      "metadata": {
        "colab": {
          "base_uri": "https://localhost:8080/"
        },
        "id": "LrqclHLYeNjJ",
        "outputId": "f5b6aef9-961e-4cdd-c93f-690ae5051f50"
      },
      "execution_count": null,
      "outputs": [
        {
          "output_type": "stream",
          "name": "stdout",
          "text": [
            "List after modification: [1, 2, 3, 10]\n",
            "Original number: 5\n",
            "New number: 15\n"
          ]
        }
      ]
    },
    {
      "cell_type": "code",
      "source": [
        "# Q6. Write a program that performs basic arithmetic operations on two user-input numbers\n",
        "a = int(input(\"Enter first number: \"))\n",
        "b = int(input(\"Enter second number: \"))\n",
        "print(\"Sum:\", a + b)\n",
        "print(\"Difference:\", a - b)\n",
        "print(\"Product:\", a * b)\n",
        "print(\"Quotient:\", a / b)"
      ],
      "metadata": {
        "colab": {
          "base_uri": "https://localhost:8080/"
        },
        "id": "LqZdbu2oeNsF",
        "outputId": "d2673550-f92a-435c-ae11-a76ebc1d0a96"
      },
      "execution_count": null,
      "outputs": [
        {
          "output_type": "stream",
          "name": "stdout",
          "text": [
            "Enter first number: 2\n",
            "Enter second number: 4\n",
            "Sum: 6\n",
            "Difference: -2\n",
            "Product: 8\n",
            "Quotient: 0.5\n"
          ]
        }
      ]
    },
    {
      "cell_type": "code",
      "source": [
        "# Q7. Write a program to demonstrate the use of logical operators\n",
        "x = 10\n",
        "y = 20\n",
        "print(x > 5 and y > 15)\n",
        "print(x < 5 or y > 15)\n",
        "print(not(x > y))"
      ],
      "metadata": {
        "colab": {
          "base_uri": "https://localhost:8080/"
        },
        "id": "RWwK4GKHeNz5",
        "outputId": "d1941ff8-f25c-4ae8-d6e3-be2842d18d94"
      },
      "execution_count": null,
      "outputs": [
        {
          "output_type": "stream",
          "name": "stdout",
          "text": [
            "True\n",
            "True\n",
            "True\n"
          ]
        }
      ]
    },
    {
      "cell_type": "code",
      "source": [
        "# Q8. Create a list and tuple in Python, and demonstrate how attempting to change an element works differently\n",
        "my_list = [1, 2, 3]\n",
        "my_tuple = (1, 2, 3)\n",
        "my_list[0] = 10\n",
        "print(\"Modified list:\", my_list)\n",
        "# my_tuple[0] = 10"
      ],
      "metadata": {
        "colab": {
          "base_uri": "https://localhost:8080/"
        },
        "id": "mDS3aT6meN8O",
        "outputId": "965b52f1-32d1-4cc3-fa56-d62aa93fea9a"
      },
      "execution_count": null,
      "outputs": [
        {
          "output_type": "stream",
          "name": "stdout",
          "text": [
            "Modified list: [10, 2, 3]\n"
          ]
        }
      ]
    },
    {
      "cell_type": "code",
      "source": [
        "# Q9. Write a Python program to convert user input from string to integer, float, and boolean types\n",
        "user_input = input(\"Enter a value: \")\n",
        "print(\"As integer:\", int(user_input))\n",
        "print(\"As float:\", float(user_input))\n",
        "print(\"As boolean:\", bool(user_input))"
      ],
      "metadata": {
        "colab": {
          "base_uri": "https://localhost:8080/"
        },
        "id": "Autwlqu_eu2j",
        "outputId": "b7177032-c59f-43b1-eed4-05f062efb092"
      },
      "execution_count": null,
      "outputs": [
        {
          "output_type": "stream",
          "name": "stdout",
          "text": [
            "Enter a value: 3\n",
            "As integer: 3\n",
            "As float: 3.0\n",
            "As boolean: True\n"
          ]
        }
      ]
    },
    {
      "cell_type": "code",
      "source": [
        "# Q10. Write code to demonstrate type casting with list elements\n",
        "numbers = [\"1\", \"2\", \"3\", \"4\"]\n",
        "int_numbers = [int(x) for x in numbers]\n",
        "print(\"Original list:\", numbers)\n",
        "print(\"After type casting:\", int_numbers)"
      ],
      "metadata": {
        "colab": {
          "base_uri": "https://localhost:8080/"
        },
        "id": "qj6JA3Fke57R",
        "outputId": "9a27249d-33f2-4213-af68-c726dfbaf9de"
      },
      "execution_count": null,
      "outputs": [
        {
          "output_type": "stream",
          "name": "stdout",
          "text": [
            "Original list: ['1', '2', '3', '4']\n",
            "After type casting: [1, 2, 3, 4]\n"
          ]
        }
      ]
    },
    {
      "cell_type": "code",
      "source": [
        "# Q11. Write a program that checks if a number is positive, negative, or zero\n",
        "num = int(input(\"Enter a number: \"))\n",
        "if num > 0:\n",
        "    print(\"Positive\")\n",
        "elif num < 0:\n",
        "    print(\"Negative\")\n",
        "else:\n",
        "    print(\"Zero\")"
      ],
      "metadata": {
        "colab": {
          "base_uri": "https://localhost:8080/"
        },
        "id": "GUP-68MOe6FH",
        "outputId": "679caf2a-1773-422b-e900-395e850aefb1"
      },
      "execution_count": null,
      "outputs": [
        {
          "output_type": "stream",
          "name": "stdout",
          "text": [
            "Enter a number: 6\n",
            "Positive\n"
          ]
        }
      ]
    },
    {
      "cell_type": "code",
      "source": [
        "# Q12. Write a for loop to print numbers from 1 to 10\n",
        "for i in range(1, 11):\n",
        "    print(i)"
      ],
      "metadata": {
        "colab": {
          "base_uri": "https://localhost:8080/"
        },
        "id": "gl8rtijOe6PS",
        "outputId": "7255db00-727f-44c5-e67f-96a07dcb9351"
      },
      "execution_count": null,
      "outputs": [
        {
          "output_type": "stream",
          "name": "stdout",
          "text": [
            "1\n",
            "2\n",
            "3\n",
            "4\n",
            "5\n",
            "6\n",
            "7\n",
            "8\n",
            "9\n",
            "10\n"
          ]
        }
      ]
    },
    {
      "cell_type": "code",
      "source": [
        "# Q13. Write a Python program to find the sum of all even numbers between 1 and 50\n",
        "total = 0\n",
        "for i in range(1, 51):\n",
        "    if i % 2 == 0:\n",
        "        total += i\n",
        "print(\"Sum of even numbers between 1 and 50:\", total)"
      ],
      "metadata": {
        "colab": {
          "base_uri": "https://localhost:8080/"
        },
        "id": "MyakblwMe6Ya",
        "outputId": "7334775d-ad20-417a-a71a-3915cc214c7d"
      },
      "execution_count": null,
      "outputs": [
        {
          "output_type": "stream",
          "name": "stdout",
          "text": [
            "Sum of even numbers between 1 and 50: 650\n"
          ]
        }
      ]
    },
    {
      "cell_type": "code",
      "source": [
        "# Q14. Write a program to reverse a string using a while loop\n",
        "s = input(\"Enter a string: \")\n",
        "reversed_str = \"\"\n",
        "i = len(s) - 1\n",
        "while i >= 0:\n",
        "    reversed_str += s[i]\n",
        "    i -= 1\n",
        "print(\"Reversed string:\", reversed_str)"
      ],
      "metadata": {
        "colab": {
          "base_uri": "https://localhost:8080/"
        },
        "id": "5ykfpI7ueu57",
        "outputId": "46d805c0-ffd5-4bde-c29b-dff85572e1a6"
      },
      "execution_count": null,
      "outputs": [
        {
          "output_type": "stream",
          "name": "stdout",
          "text": [
            "Enter a string: xyz\n",
            "Reversed string: zyx\n"
          ]
        }
      ]
    },
    {
      "cell_type": "code",
      "source": [
        "# Q15. Write a Python program to calculate the factorial of a number provided by the user using a while loop\n",
        "num = int(input(\"Enter a number: \"))\n",
        "factorial = 1\n",
        "while num > 0:\n",
        "    factorial *= num\n",
        "    num -= 1\n",
        "print(\"Factorial:\", factorial)"
      ],
      "metadata": {
        "colab": {
          "base_uri": "https://localhost:8080/"
        },
        "id": "gwfUnIgceu87",
        "outputId": "168e8daf-868d-419a-89de-01b78729d533"
      },
      "execution_count": null,
      "outputs": [
        {
          "output_type": "stream",
          "name": "stdout",
          "text": [
            "Enter a number: 456\n",
            "Factorial: 150777392777717065903328562798297482932764849966301315324902295697797980802999492049275470580840593582700556154654997912467653672836190567363944536581444396786039028419417159553169852939652733499484374432647121409002713034716885273557660568294514238651304204026421026217797122437474581042706674997505548774529387552185264469304745879944335896334980134727576771262477699704913814778801164976379963316514713032786305083016847394455111607701177156363125206697642497352441989049637406799105387152093299654856194446887474831405921359722324720996553956200165400519069670468845686118517860926559421327845227712982865242890852011587912148558934925229259778865164753102371910801614732061965104129730561590839408147446252948841011789641706225763887234100676084552005497753764496546383864694159909979495432469993306110242973486330432796522331628915418533758582252153753291412897349335363154308911927972242304805109760000000000000000000000000000000000000000000000000000000000000000000000000000000000000000000000000000000000000000\n"
          ]
        }
      ]
    }
  ]
}